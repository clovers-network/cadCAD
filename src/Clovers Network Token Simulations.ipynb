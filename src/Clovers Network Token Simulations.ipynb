{
 "cells": [
  {
   "cell_type": "code",
   "execution_count": 1,
   "metadata": {
    "scrolled": true
   },
   "outputs": [],
   "source": [
    "%%capture\n",
    "%matplotlib inline\n",
    "%time\n",
    "\n",
    "!rm -rf tmp/*\n",
    "\n",
    "# Had to install this funcy dependency manually, there was a bug in cadCAD, where the dependency wasn't loaded\n",
    "# import sys\n",
    "# !{sys.executable} -m pip install --user funcy\n",
    "\n",
    "# instal line profiler, for optimizing notebook\n",
    "# !pip install --user line_profiler\n",
    "# !pip install --user Pillow\n",
    "\n",
    "import os.path\n",
    "import json\n",
    "import matplotlib.pyplot as plt\n",
    "import seaborn as sns\n",
    "import numpy as np\n",
    "import pandas as pd\n",
    "import math\n",
    "import importlib\n",
    "import policies\n",
    "import config\n",
    "import state_updates\n",
    "import utils\n",
    "from numpy.random import rand\n",
    "\n",
    "importlib.reload(config)\n",
    "importlib.reload(policies)\n",
    "importlib.reload(state_updates)\n",
    "importlib.reload(utils)\n",
    "\n",
    "initial_conditions, rarity, market_settings = config.initial_conditions, config.rarity, config.market_settings"
   ]
  },
  {
   "cell_type": "code",
   "execution_count": 2,
   "metadata": {},
   "outputs": [
    {
     "data": {
      "text/plain": [
       "[{'N': 1,\n",
       "  'T': range(0, 360),\n",
       "  'M': {'bc-reserveRatio': 0.37,\n",
       "   'bc-virtualBalance': 34.11,\n",
       "   'bc-virtualSupply': 10000,\n",
       "   'payMultiplier': 0.05,\n",
       "   'priceMultiplier': 3,\n",
       "   'basePrice': 3}},\n",
       " {'N': 1,\n",
       "  'T': range(0, 120),\n",
       "  'M': {'bc-reserveRatio': 0.75,\n",
       "   'bc-virtualBalance': 10,\n",
       "   'bc-virtualSupply': 10000,\n",
       "   'payMultiplier': 0.07,\n",
       "   'priceMultiplier': 3,\n",
       "   'basePrice': 3}},\n",
       " {'N': 1,\n",
       "  'T': range(0, 120),\n",
       "  'M': {'bc-reserveRatio': 0.75,\n",
       "   'bc-virtualBalance': 10,\n",
       "   'bc-virtualSupply': 10000,\n",
       "   'payMultiplier': 0.1,\n",
       "   'priceMultiplier': 3,\n",
       "   'basePrice': 3}}]"
      ]
     },
     "execution_count": 2,
     "metadata": {},
     "output_type": "execute_result"
    }
   ],
   "source": [
    "# height of each graph (for plotting)\n",
    "plt_row_height = 7\n",
    "plt_width = 20\n",
    "\n",
    "log_params = {\n",
    "    'bc-reserveRatio': [0.75],\n",
    "    'bc-virtualBalance': [10],\n",
    "    'bc-virtualSupply': [10000]\n",
    "} \n",
    "\n",
    "exp_params = {\n",
    "    'bc-reserveRatio': [0.37],\n",
    "    'bc-virtualBalance': [34.11],\n",
    "    'bc-virtualSupply': [10000]\n",
    "}\n",
    "\n",
    "current_params = log_params\n",
    "\n",
    "params = {\n",
    "    'bc-reserveRatio':  current_params['bc-reserveRatio'],       # bonding curve reserve ratio (connector weight)\n",
    "    'bc-virtualBalance':  current_params['bc-virtualBalance'],        # bonding curve virtual balance\n",
    "    'bc-virtualSupply': current_params['bc-virtualSupply'],      # bonding curve virtual supply\n",
    "#    'payMultiplier':    [0.325, 0.35, 0.375, 0.4, 0.425, 0.45],      # used to calculate reward (multiplied by ratio of rarity)\n",
    "    'payMultiplier':    [0.05, 0.07, 0.1],      # used to calculate reward (multiplied by ratio of rarity)\n",
    "    'priceMultiplier': [3],           # used to calculate cost to keep (mult by reward amt + base price)\n",
    "    'basePrice': [3]           # minimum price to keep any clover\n",
    "}\n",
    "\n",
    "# Set this to the params that you want to display when graphing a line-per-param-set\n",
    "variableParams = ['payMultiplier']\n",
    "\n",
    "previousRuns = (0) * 24\n",
    "days = 15\n",
    "timesteps_per_run = int(24 * days)\n",
    "monte_carlo_runs = 1\n",
    "\n",
    "from cadCAD.configuration.utils import config_sim\n",
    "simulation_parameters = config_sim({\n",
    "    'T': range(timesteps_per_run),\n",
    "    'N': monte_carlo_runs,\n",
    "    'M': params\n",
    "})\n",
    "simulation_parameters"
   ]
  },
  {
   "cell_type": "code",
   "execution_count": 3,
   "metadata": {},
   "outputs": [],
   "source": [
    "initialized_conditions = initial_conditions\n",
    "        \n",
    "\n",
    "# # # # # # # # # # # # # # # # # # # # # # # # # # # # # # # # # # # # # # # # # # # # # # # # \n",
    "# In the Partial State Update Blocks, \n",
    "# the user specifies if state update functions will be run in series or in parallel\n",
    "# and the policy functions that will be evaluated in that block\n",
    "partial_state_update_blocks = [\n",
    "    {\n",
    "        'policies': {},\n",
    "        'variables': {\n",
    "            's': state_updates.initialize\n",
    "        }\n",
    "    },\n",
    "    { \n",
    "        'policies': { # The following policy functions will be evaluated and their returns will be passed to the state update functions\n",
    "            'participantPool': policies.participant_pool_policy\n",
    "        },\n",
    "        'variables': { # The following state variables will be updated simultaneously\n",
    "            's': state_updates.update_participant_pool\n",
    "        }\n",
    "    },\n",
    "    { \n",
    "        'policies': { # The following policy functions will be evaluated and their returns will be passed to the state update functions\n",
    "            'minerPolicy': policies.miner_policy\n",
    "        },\n",
    "        'variables': { # The following state variables will be updated simultaneously\n",
    "            's': state_updates.update_state_miner_policy\n",
    "        }\n",
    "    },\n",
    "    { \n",
    "        'policies': { # The following policy functions will be evaluated and their returns will be passed to the state update functions\n",
    "            'playerPolicy': policies.player_policy\n",
    "        },\n",
    "        'variables': { # The following state variables will be updated simultaneously\n",
    "            's': state_updates.update_state\n",
    "        }\n",
    "    },\n",
    "    { \n",
    "        'policies': { # The following policy functions will be evaluated and their returns will be passed to the state update functions\n",
    "            'marketActivityPolicy': policies.market_activity_policy\n",
    "        },\n",
    "        'variables': { # The following state variables will be updated simultaneously\n",
    "            's': state_updates.update_state\n",
    "        }\n",
    "    }\n",
    "    #     speculators # folks speculating on clover coin price\n",
    "]"
   ]
  },
  {
   "cell_type": "code",
   "execution_count": 4,
   "metadata": {},
   "outputs": [],
   "source": [
    "from tabulate import tabulate\n",
    "from cadCAD.configuration import append_configs\n",
    "# # # # # # # # # # # # # # # # # # # # # # # # # # # # # # # # # # # # # # # # # # # # # # # #\n",
    "# The configurations above are then packaged into a `Configuration` object\n",
    "append_configs(\n",
    "    initial_state=initial_conditions, #dict containing variable names and initial values\n",
    "    partial_state_update_blocks=partial_state_update_blocks, #dict containing state update functions\n",
    "    sim_configs=simulation_parameters #dict containing simulation parameters\n",
    ")\n",
    "\n",
    "from cadCAD import configs\n",
    "from cadCAD.engine import ExecutionMode, ExecutionContext, Executor\n",
    "\n",
    "exec_mode = ExecutionMode()\n",
    "multi_proc_ctx = ExecutionContext(context=exec_mode.multi_proc)\n",
    "run = Executor(multi_proc_ctx, configs=configs)"
   ]
  },
  {
   "cell_type": "code",
   "execution_count": null,
   "metadata": {},
   "outputs": [
    {
     "name": "stdout",
     "output_type": "stream",
     "text": [
      "multi_proc: [<cadCAD.configuration.Configuration object at 0x7fc8b82e6208>, <cadCAD.configuration.Configuration object at 0x7fc8b82e6198>, <cadCAD.configuration.Configuration object at 0x7fc87fcf1438>]\n",
      "[<cadCAD.configuration.Configuration object at 0x7fc8b82e6208>, <cadCAD.configuration.Configuration object at 0x7fc8b82e6198>, <cadCAD.configuration.Configuration object at 0x7fc87fcf1438>]\n"
     ]
    }
   ],
   "source": [
    "%%capture\n",
    "\n",
    "i = 0\n",
    "verbose = False\n",
    "results = []\n",
    "for raw_result, tensor_field in run.execute():\n",
    "    if verbose:\n",
    "        print()\n",
    "        print(f\"Tensor Field: {type(tensor_field)}\")\n",
    "        print(tabulate(tensor_field, headers='keys', tablefmt='psql'))\n",
    "        print(f\"Output: {type(results)}\")\n",
    "        print(tabulate(results, headers='keys', tablefmt='psql'))\n",
    "    results.append({})\n",
    "    results[i]['result'] = raw_result\n",
    "    results[i]['simulation_parameters'] = simulation_parameters[i]\n",
    "    i += 1"
   ]
  },
  {
   "cell_type": "code",
   "execution_count": null,
   "metadata": {},
   "outputs": [],
   "source": [
    "for i in range(len(results)):\n",
    "    print('-------', i)\n",
    "    start = len(results[i]['result'][1]['s']['clovers'])\n",
    "    print(start, ' to begin')\n",
    "    end = len(results[i]['result'][len(results[i]['result']) - 1]['s']['clovers'])\n",
    "    print(end, 'at end')\n",
    "    print(end - start, ' increase')"
   ]
  },
  {
   "cell_type": "code",
   "execution_count": null,
   "metadata": {},
   "outputs": [],
   "source": [
    "import graphing\n",
    "importlib.reload(graphing)\n",
    "\n",
    "graphing.make_title_bar(results, graphsize=(10,5))\n",
    "graphing.make_graph(results, graphing.clovers_metrics_graph, graphsize=(10,5))\n",
    "graphing.make_graph(results, graphing.clovers_traded_graph, graphsize=(10,5))\n",
    "graphing.make_graph(results, graphing.bc_balance_graph, graphsize=(10,5))"
   ]
  },
  {
   "cell_type": "code",
   "execution_count": null,
   "metadata": {},
   "outputs": [],
   "source": [
    "graphing.make_title_bar(results, graphsize=(10,5))\n",
    "graphing.make_graph(results, graphing.num_syms_graph, graphsize=(10,5))\n",
    "graphing.make_graph(results, graphing.rewards_per_sym_graph, graphsize=(10,5))\n",
    "graphing.make_graph(results, graphing.rewards_per_sym_eth_graph, graphsize=(10,5))\n",
    "graphing.make_graph(results, graphing.gas_price, graphsize=(10,5))"
   ]
  },
  {
   "cell_type": "code",
   "execution_count": null,
   "metadata": {},
   "outputs": [],
   "source": [
    "importlib.reload(graphing)\n",
    "graphing.make_title_bar(results, graphsize=(10,5))\n",
    "graphing.make_final_state_graph(results, graphsize=(10,6))"
   ]
  },
  {
   "cell_type": "code",
   "execution_count": null,
   "metadata": {},
   "outputs": [],
   "source": [
    "variableParams = ['priceMultiplier']\n",
    "\n",
    "graphing.make_param_runs_graph(results, variableParams, ['numPlayerClovers','numBankClovers', 'slope'])"
   ]
  },
  {
   "cell_type": "code",
   "execution_count": null,
   "metadata": {},
   "outputs": [],
   "source": [
    "graphing.make_param_runs_graph(results, variableParams, ['bc-balance', 'bc-totalSupply'])"
   ]
  },
  {
   "cell_type": "code",
   "execution_count": null,
   "metadata": {},
   "outputs": [],
   "source": []
  }
 ],
 "metadata": {
  "kernelspec": {
   "display_name": "Python 3",
   "language": "python",
   "name": "python3"
  },
  "language_info": {
   "codemirror_mode": {
    "name": "ipython",
    "version": 3
   },
   "file_extension": ".py",
   "mimetype": "text/x-python",
   "name": "python",
   "nbconvert_exporter": "python",
   "pygments_lexer": "ipython3",
   "version": "3.7.3"
  }
 },
 "nbformat": 4,
 "nbformat_minor": 2
}
