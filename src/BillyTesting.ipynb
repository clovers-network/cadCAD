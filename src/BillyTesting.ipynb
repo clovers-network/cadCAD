{
 "nbformat_minor": 2, 
 "nbformat": 4, 
 "cells": [
  {
   "execution_count": 81, 
   "cell_type": "code", 
   "source": "import utils\nimport importlib\nimportlib.reload(utils)\n\ntokenSupply = 3333\ncollateral = 9999999\nCW = 0.5\nneedToBuy = 1000\n\nn = utils.getPower(CW)\nprint(\"n\", n)\n\nm = utils.getSlope(tokenSupply, collateral, CW)\nprint(\"m\", m)\n\ncostToBuy = utils._calculatePriceForTokens(tokenSupply, collateral, CW, needToBuy)\nprint(\"costToBuy\", costToBuy)\n\nresultOfBuy = utils.calculatePurchaseReturn(tokenSupply, collateral, CW, costToBuy)\nprint(\"resultOfBuy\", resultOfBuy)\n\nprint(\"error\", resultOfBuy - needToBuy)\n\nresultOfSell = utils.calculateSellReturn(tokenSupply + resultOfBuy, collateral + costToBuy, CW, resultOfBuy)\nprint(\"resultOfSell\", resultOfSell)\nprint(\"error\", (resultOfSell - costToBuy) / costToBuy)\n\nprint(\"1 / CW:\", 1 / CW)\n\n(m * CW * tokenSupply)** 2", 
   "outputs": [
    {
     "output_type": "stream", 
     "name": "stdout", 
     "text": "n 1.0\nm 1.8003598739711955\ncostToBuy 6900779.396931592\nresultOfBuy 1000.0\nerror 0.0\nresultOfSell 6900779.396931593\nerror 1.3495904173224083e-16\n1 / CW: 2.0\n"
    }, 
    {
     "execution_count": 81, 
     "output_type": "execute_result", 
     "data": {
      "text/plain": "9001798.46967604"
     }, 
     "metadata": {}
    }
   ], 
   "metadata": {
    "trusted": true
   }
  }, 
  {
   "execution_count": 84, 
   "cell_type": "code", 
   "source": "def effectObject(s):\n    s['a'] += 1\n    return s\n\ns = {\n'a' : 0\n}\n\nf = effectObject(s)\n\nprint(\"f\", f)\nprint(\"s\", s)\n\nf['a'] += 1\n\nprint(\"f\", f)\nprint(\"s\", s)", 
   "outputs": [
    {
     "output_type": "stream", 
     "name": "stdout", 
     "text": "f {'a': 1}\ns {'a': 1}\nf {'a': 2}\ns {'a': 2}\n"
    }
   ], 
   "metadata": {
    "trusted": true
   }
  }, 
  {
   "execution_count": null, 
   "cell_type": "code", 
   "source": "import random\nimport math\n\ndef market_activity_policy(params, step, sL, s):\n    s = s['s']\n    g = s['network']\n    \n    # run through players and pick some of their clovers they are willing to sell.\n    def update_for_sale(player):\n        owned_clovers = utils.get_owned_clovers(g, player)\n        \n        owned_clovers_for_sale = []\n        owned_clovers_not_for_sale = []\n        for clover in owned_clovers:\n            if g.nodes[clover]['for_sale']:\n                owned_clovers_for_sale.append(clover)\n            else:\n                owned_clovers_not_for_sale.append(clover)\n        \n        for_sale_ratio = len(owned_clovers_for_sale)/len(owned_clovers)\n        desired_ratio = g.nodes[player]['desired_for_sale_ratio']\n        \n        to_sell = []\n        if for_sale_ratio < desired_ratio:\n            for clover in owned_clovers_not_for_sale:\n                new_ratio = len(to_sell + owned_clovers_for_sale)/len(owned_clovers)\n                if rand() < ((desired_ratio - new_ratio)/desired_ratio):\n                    to_sell.append(clover)\n        return to_sell\n    \n    # Determine which clovers to be bought based on desired_percentage_of_market_for_sale\n    # If there are too many clovers for sale, reduce the number by buying some\n    (clovers_for_sale, total_clovers) = utils.get_clovers_for_sale(g)\n    actual_percentage_of_market_for_sale = len(clovers_for_sale) / total_clovers\n    to_buy = []\n    if (actual_percentage_of_market_for_sale > params['desired_percentage_of_market_for_sale']):\n        more_to_buy = total_clovers * params['desired_percentage_of_market_for_sale'] - len(clovers_for_sale)\n        more_to_buy = math.floor(more_to_buy)\n        to_buy = random.sample(clovers_for_sale, more_to_buy)\n\n    # Pick new clovers to go on sale\n    to_sell = []\n    players = utils.get_nodes_by_type(s['network'], 'player')\n#     for node in players:\n#         player = s['network'].nodes[node]\n#         clovers = update_for_sale(player)\n        \n#         if (len(clovers) > 0):\n#             to_sell = to_sell + clovers\n     \n    # Match clovers to be bought with actual player buyers\n    playersLen = len(players)\n    toBuyLen = len(to_buy)\n    if (playersLen >= toBuyLen):\n        everyone_at_least_x_times = 0\n        extra_players_to_buy = random.sample(players, toBuyLen)\n    else:\n        everyone_at_least_x_times = math.floor(toBuyLen / playersLen)\n        remainder = math.fmod(toBuyLen, playersLen)\n        extra_players_to_buy = random.sample(players, len(remainder))\n\n    s = {\"s\": s}\n    return {'clovers_to_be_bought': to_buy, 'everyone_at_least_x_times': everyone_at_least_x_times, 'extra_players_to_buy': buying_players, 'clovers_to_sell': to_sell}\n        ", 
   "outputs": [], 
   "metadata": {
    "trusted": true
   }
  }, 
  {
   "execution_count": 95, 
   "cell_type": "code", 
   "source": "foo = [1]\nbar = [1, 2]\nlen(foo + bar)\n\nfoo + bar\nfoo.append('3')\nfoo", 
   "outputs": [
    {
     "execution_count": 95, 
     "output_type": "execute_result", 
     "data": {
      "text/plain": "[1, '3']"
     }, 
     "metadata": {}
    }
   ], 
   "metadata": {
    "trusted": true
   }
  }
 ], 
 "metadata": {
  "kernelspec": {
   "display_name": "Python 3", 
   "name": "python3", 
   "language": "python"
  }, 
  "language_info": {
   "mimetype": "text/x-python", 
   "nbconvert_exporter": "python", 
   "name": "python", 
   "file_extension": ".py", 
   "version": "3.6.8", 
   "pygments_lexer": "ipython3", 
   "codemirror_mode": {
    "version": 3, 
    "name": "ipython"
   }
  }
 }
}