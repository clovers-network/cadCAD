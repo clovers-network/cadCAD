{
 "nbformat_minor": 2, 
 "nbformat": 4, 
 "cells": [
  {
   "execution_count": 81, 
   "cell_type": "code", 
   "source": "import utils\nimport importlib\nimportlib.reload(utils)\n\ntokenSupply = 3333\ncollateral = 9999999\nCW = 0.5\nneedToBuy = 1000\n\nn = utils.getPower(CW)\nprint(\"n\", n)\n\nm = utils.getSlope(tokenSupply, collateral, CW)\nprint(\"m\", m)\n\ncostToBuy = utils._calculatePriceForTokens(tokenSupply, collateral, CW, needToBuy)\nprint(\"costToBuy\", costToBuy)\n\nresultOfBuy = utils.calculatePurchaseReturn(tokenSupply, collateral, CW, costToBuy)\nprint(\"resultOfBuy\", resultOfBuy)\n\nprint(\"error\", resultOfBuy - needToBuy)\n\nresultOfSell = utils.calculateSellReturn(tokenSupply + resultOfBuy, collateral + costToBuy, CW, resultOfBuy)\nprint(\"resultOfSell\", resultOfSell)\nprint(\"error\", (resultOfSell - costToBuy) / costToBuy)\n\nprint(\"1 / CW:\", 1 / CW)\n\n(m * CW * tokenSupply)** 2", 
   "outputs": [
    {
     "output_type": "stream", 
     "name": "stdout", 
     "text": "n 1.0\nm 1.8003598739711955\ncostToBuy 6900779.396931592\nresultOfBuy 1000.0\nerror 0.0\nresultOfSell 6900779.396931593\nerror 1.3495904173224083e-16\n1 / CW: 2.0\n"
    }, 
    {
     "execution_count": 81, 
     "output_type": "execute_result", 
     "data": {
      "text/plain": "9001798.46967604"
     }, 
     "metadata": {}
    }
   ], 
   "metadata": {
    "trusted": true
   }
  }, 
  {
   "execution_count": 84, 
   "cell_type": "code", 
   "source": "def effectObject(s):\n    s['a'] += 1\n    return s\n\ns = {\n'a' : 0\n}\n\nf = effectObject(s)\n\nprint(\"f\", f)\nprint(\"s\", s)\n\nf['a'] += 1\n\nprint(\"f\", f)\nprint(\"s\", s)", 
   "outputs": [
    {
     "output_type": "stream", 
     "name": "stdout", 
     "text": "f {'a': 1}\ns {'a': 1}\nf {'a': 2}\ns {'a': 2}\n"
    }
   ], 
   "metadata": {
    "trusted": true
   }
  }
 ], 
 "metadata": {
  "kernelspec": {
   "display_name": "Python 3", 
   "name": "python3", 
   "language": "python"
  }
 }
}