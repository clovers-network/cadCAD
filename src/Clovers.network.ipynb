{
 "cells": [
  {
   "cell_type": "code",
   "execution_count": null,
   "metadata": {
    "scrolled": true,
    "trusted": true
   },
   "outputs": [],
   "source": "#%%capture\n%load_ext line_profiler\n%matplotlib inline\n\n\n# Had to install this funcy dependency manually, there was a bug in cadCAD, where the dependency wasn't loaded\n# import sys\n# !{sys.executable} -m pip install --user funcy\n\n# instal line profiler, for optimizing notebook\n# !pip install --user line_profiler\n# !pip install --user Pillow\n\n\nimport matplotlib.pyplot as plt\nimport seaborn as sns\nimport numpy as np\nimport pandas as pd\nimport math\nimport importlib\nimport policies\nimport config\nimport state_updates\nimport utils\nfrom numpy.random import rand\n\nimportlib.reload(config)\nimportlib.reload(policies)\nimportlib.reload(state_updates)\nimportlib.reload(utils)\n\ninitial_conditions, disaster_ideal, rarity, market_settings = config.initial_conditions, config.disaster_ideal, config.rarity, config.market_settings"
  },
  {
   "cell_type": "code",
   "execution_count": null,
   "metadata": {
    "trusted": true
   },
   "outputs": [],
   "source": "%%time\nimport os.path\nimport json\n\nnum_runs = 1\n\n# height of each graph (for plotting)\nplt_row_height = 7\nplt_width = 20\n\n\ndef player_active():\n    awake_likelihood = 0.6  # 60% probability of player being awake\n    active_likelihood = 0.05 # 3 hours of play in 7 day week\n    return rand() < (awake_likelihood*active_likelihood)\n\nparams = {\n    'duration': 60, # duration of timestep (in minutes)\n    'player_active': player_active,\n    'payMultiplier': 0.2\n}\n\npreviousRuns = (0) * 24\ndays = 3\nnum_timesteps = int(24 * days)\nsimulation_parameters = {\n    'T': range(num_timesteps),\n    'N': num_runs,\n    'M': params\n}\n\n\ninitialized_conditions = initial_conditions\n# initialized_conditions = disaster_ideal\n        \n\n# # # # # # # # # # # # # # # # # # # # # # # # # # # # # # # # # # # # # # # # # # # # # # # # \n# In the Partial State Update Blocks, \n# the user specifies if state update functions will be run in series or in parallel\n# and the policy functions that will be evaluated in that block\npartial_state_update_blocks = [\n    {\n        'policies': {},\n        'variables': {\n            's': state_updates.initialize\n        }\n    },\n    { \n        'policies': { # The following policy functions will be evaluated and their returns will be passed to the state update functions\n            'participantPool': policies.participant_pool_policy\n        },\n        'variables': { # The following state variables will be updated simultaneously\n            's': state_updates.update_participant_pool\n        }\n    },\n    { \n        'policies': { # The following policy functions will be evaluated and their returns will be passed to the state update functions\n            'minerPolicy': policies.miner_policy\n        },\n        'variables': { # The following state variables will be updated simultaneously\n            's': state_updates.update_state_miner_policy\n        }\n    },\n    { \n        'policies': { # The following policy functions will be evaluated and their returns will be passed to the state update functions\n            'playerPolicy': policies.player_policy\n        },\n        'variables': { # The following state variables will be updated simultaneously\n            's': state_updates.update_state\n        }\n    },\n    { \n        'policies': { # The following policy functions will be evaluated and their returns will be passed to the state update functions\n            'marketActivityPolicy': policies.market_activity_policy\n        },\n        'variables': { # The following state variables will be updated simultaneously\n            's': state_updates.update_state\n        }\n    },\n    {\n        'policies': {},\n        'variables':{\n            's': state_updates.save_file\n        }\n    }\n    #     speculators # folks speculating on clover coin price\n]\n\n# # # # # # # # # # # # # # # # # # # # # # # # # # # # # # # # # # # # # # # # # # # # # # # # \n\n\n\nfrom cadCAD.configuration import Configuration\n# # # # # # # # # # # # # # # # # # # # # # # # # # # # # # # # # # # # # # # # # # # # # # # # \n# The configurations above are then packaged into a `Configuration` object\nconfig = Configuration(initial_state=initialized_conditions.copy(), #dict containing variable names and initial values\n                       partial_state_update_blocks=partial_state_update_blocks, #dict containing state update functions\n                       sim_config=simulation_parameters #dict containing simulation parameters\n                      )\n\nfrom cadCAD import configs\n\nfrom cadCAD.engine import ExecutionMode, ExecutionContext, Executor\nexec_mode = ExecutionMode()\nexec_context = ExecutionContext(exec_mode.single_proc)\nexecutor = Executor(exec_context, [config]) # Pass the configuration object inside an array\nraw_result, tensor = executor.execute() # The `execute()` method returns a tuple; its first elements contains the raw results"
  },
  {
   "cell_type": "code",
   "execution_count": null,
   "metadata": {
    "trusted": true
   },
   "outputs": [],
   "source": "%%time\n# {'s': {'bc-balance': 40, 'bc-totalSupply': 30297.222282697643, 'symmetries': {'hasSymmetry': 0, 'rotSym': 0, 'y0Sym': 0, 'x0Sym': 0, 'xySym': 0, 'xnySym': 0}, 'network': <networkx.classes.digraph.DiGraph object at 0x7feb94401eb8>, 'players': [61728968314424, 293889188073290, 226408724277593, 472925374878931, 638758537652366, 344097444779201, 129303744057255, 316855034068104, 215183806154351, 232027941686814], 'miners': [895282972085115], 'bank': 325998228332377, 'clovers': []}}\ndef to_df(raw_result):\n    def flatten_cols(row):\n        timestep = row['timestep']\n        row['timestep'] += previousRuns\n        substep = row['substep']\n        run = row['run']\n        s = row['s']\n        new_cols = {}\n        miners = utils.get_nodes_by_type(s, 'miner')\n        players = utils.get_nodes_by_type(s, 'player')\n        clovers = utils.get_nodes_by_type(s, 'clover')\n        sample_clover = {'hasSymmetry': True}\n        for key in s['symmetries'].keys():\n            if key == 'hasSymmetry': continue\n            sample_clover[key] = False\n        for key in s['symmetries'].keys():\n            if key == 'hasSymmetry': continue\n            clover = dict(sample_clover)\n            clover[key] = True\n            reward = utils.getCloverReward(s['symmetries'], clover, market_settings)\n            new_cols['reward-' + key] = reward\n            cashout = utils.calculateCashout(s, market_settings, reward)\n            if (cashout == 0):\n                cashout = .001311\n            new_cols['reward-eth-' + key] = cashout\n            \n        # timestep stats\n        new_cols['cloversKept'] = s['timestepStats']['cloversKept']\n        new_cols['cloversReleased'] = s['timestepStats']['cloversReleased']\n        new_cols['cloversTraded'] = s['timestepStats']['cloversTraded']\n        new_cols['cloversBoughtFromBank'] = s['timestepStats']['cloversBoughtFromBank']\n        new_cols['cloversListedByPlayers'] = s['timestepStats']['cloversListedByPlayers']\n\n        new_cols['cost-to-mine'] = market_settings['register_clover_cost_in_eth']\n        new_cols['cost-to-mine-usd'] = market_settings['register_clover_cost_in_eth'] * 300\n        new_cols['miners'] = len(miners)\n        new_cols['players'] = len(players)\n        new_cols['clovers'] = len(clovers)\n        new_cols.update(s['symmetries'])\n        price = utils.calculateCurrentPrice(s, market_settings)\n        if (price == 0):\n#             _s = raw_results[(row['timestep'] - 1) * len(partial_state_update_blocks)]\n#             price = utils.calculateCurrentPrice(_s, market_settings)\n            price = 0.000803\n        new_cols['coin-price'] = price\n        new_cols['coin-price-usd'] = new_cols['coin-price'] * 300\n        # new_cols['playerClovers'] = new_cols['clovers'] = new_cols['bankClovers']\n        # for clover_attr in ['hasSymmetry', 'y0Sym', 'x0Sym', 'xySym', 'xnySym', 'rotSym', 'pretty']:\n        #     new_cols['net_' + clover_attr] = len([c for c in clovers if g.nodes[c][clover_attr]])\n\n        res = {**row, **s, **new_cols}\n        res.pop('network')\n#         res.pop('hasSymmetry')\n        res.pop('previous-timesteps')\n        res.pop('symmetries')\n        res.pop('bank')\n#         res.pop('miners')\n#         res.pop('players')\n#         res.pop('clovers')\n        res.pop('run')\n        res.pop('s')\n        return res\n\n    return pd.DataFrame(map(flatten_cols, raw_result))\n\nfull_df = to_df(raw_result)\n# adding new useful columns for graphing\n\n\nfull_df['market-cap'] = full_df['coin-price'] * full_df['bc-totalSupply'] * 300\n\nfull_df"
  },
  {
   "cell_type": "code",
   "execution_count": null,
   "metadata": {
    "scrolled": true,
    "trusted": true
   },
   "outputs": [],
   "source": "_s = raw_result.pop()['s']\n# _g = _s['network']\ng = utils.getNetwork()\n# print(len(g.nodes))\nprint(\"clovers\", len([node for node in g.nodes if g.nodes[node]['type']== 'clover' ]))\nprint(\"miners\", len([node for node in g.nodes if g.nodes[node]['type']== 'miner' ]))\nprint(\"players\", len([node for node in g.nodes if g.nodes[node]['type']== 'player' ]))\ndef make_clover(cloverId):\n    clover = g.node[cloverId]\n    clover['_id'] = cloverId\n    return clover\nclover_df = pd.DataFrame(map(make_clover, _s['clovers']))\npd.set_option('display.max_rows', 50)\n# pd.concat([clover_df.head(10), clover_df.tail(10)])\n# clover_df"
  },
  {
   "cell_type": "code",
   "execution_count": null,
   "metadata": {
    "trusted": true
   },
   "outputs": [],
   "source": "pd.set_option('display.max_columns', 500)\npd.set_option('display.max_rows', 500)\n\ndf = full_df[full_df['substep'] == len(partial_state_update_blocks)]\ndf_with_0 = full_df[full_df['substep'] == 0].append(full_df[full_df['substep'] == len(partial_state_update_blocks)]) # after player policy\ndf_with_0"
  },
  {
   "cell_type": "code",
   "execution_count": null,
   "metadata": {
    "trusted": true
   },
   "outputs": [],
   "source": "fig = plt.figure(figsize=(plt_width,plt_row_height*num_runs))\naxs = fig.subplots(num_runs, 2)\n\nif num_runs == 1:\n    df.plot('timestep', ['cloversKept', 'cloversReleased', 'coin-price'], secondary_y=['coin-price'], ax=axs[0])\n    df.plot('timestep', ['cloversTraded','cloversBoughtFromBank', 'cloversListedByPlayers', 'coin-price'], secondary_y=['coin-price'], ax=axs[1])\nelse:\n    for run in range(0,num_runs):\n        df.plot('timestep', ['cloversKept', 'cloversReleased', 'coin-price'], secondary_y=['coin-price'], ax=axs[run,0])\n        df.plot('timestep', ['cloversTraded','cloversBoughtFromBank', 'cloversListedByPlayers', 'coin-price'], secondary_y=['coin-price'], ax=axs[run,1])\n\nutils.savefig(fig, previousRuns, num_timesteps, 'hrs-price-graph')\n"
  },
  {
   "cell_type": "code",
   "execution_count": null,
   "metadata": {
    "scrolled": false,
    "trusted": true
   },
   "outputs": [],
   "source": "fig = plt.figure(figsize=(plt_width,plt_row_height*num_runs))\naxs = fig.subplots(num_runs, 2)\n\nif num_runs == 1:\n    df.plot('timestep', ['bc-balance', 'bc-totalSupply'], secondary_y=['bc-totalSupply'], ax=axs[0])\n    df.plot('timestep', ['coin-price', 'market-cap'], secondary_y=['market-cap'], ax=axs[1])\nelse:\n    for run in range(0,num_runs):\n        df[df.run == (run+1)].plot('timestep', ['bc-balance', 'bc-totalSupply'], secondary_y=['bc-totalSupply'], ax=axs[run,0])\n        df[df.run == (run+1)].plot('timestep', ['coin-price', 'market-cap'], secondary_y=['market-cap'], ax=axs[run,1])\n\nutils.savefig(fig, previousRuns, num_timesteps, 'hrs-price-graph')\n"
  },
  {
   "cell_type": "code",
   "execution_count": null,
   "metadata": {
    "scrolled": true,
    "trusted": true
   },
   "outputs": [],
   "source": "# set a figure with initial dimensions\nfig = plt.figure(figsize=(plt_width,(plt_row_height*num_runs)))\n\n# create 2 axes (2 graphs) laid out in a 1x2 grid, and set them each to a variable\naxs = fig.subplots(num_runs, 2)\n\nif num_runs == 1:\n    # draw out all the symmetries in a single graph, on ax1 (the left graph)\n    df.plot('timestep', ['rotSym', 'x0Sym', 'y0Sym', 'xySym', 'xnySym'], grid=False, \n            ax=axs[0]\n           )\n    \n    df.plot('timestep', ['reward-eth-rotSym', 'reward-eth-x0Sym', 'reward-eth-y0Sym', 'reward-eth-xySym', 'reward-eth-xnySym', 'cost-to-mine'], ax=axs[1])\n\nelse:\n    for row_idx in range(0,num_runs):\n        df_run = df[df.run == (row_idx + 1)]\n        # draw out all the symmetries in a single graph, on ax1 (the left graph)\n        df_run.plot('timestep', ['rotSym', 'x0Sym', 'y0Sym', 'xySym', 'xnySym'], grid=False, \n                ax=axs[row_idx,0]\n               )\n        \n        # draw out the bank clovers and total symms on ax2 (the right graph)\n        df_run.plot('timestep', 'bankClovers', ax=axs[row_idx,1])\n        \n        # additionally draw out the totalSupply as a secondary axis on ax2 (the right graph)\n        df_run.plot('timestep','bc-totalSupply',secondary_y=True, ax=axs[row_idx,1])\nutils.savefig(fig, previousRuns, num_timesteps, 'hrs-symms-graph')"
  },
  {
   "cell_type": "code",
   "execution_count": null,
   "metadata": {
    "scrolled": false,
    "trusted": true
   },
   "outputs": [],
   "source": "# set a figure with initial dimensions\nfig = plt.figure(figsize=(plt_width,(plt_row_height*num_runs)))\n\n# create 2 axes (2 graphs) laid out in a 1x2 grid, and set them each to a variable\naxs = fig.subplots(num_runs, 2)\n\nif num_runs == 1:\n    # draw out all the symmetries in a single graph, on ax1 (the left graph)\n    df.plot('timestep', ['reward-rotSym', 'reward-x0Sym', 'reward-y0Sym', 'reward-xySym', 'reward-xnySym'], grid=False, \n            ax=axs[0]\n           )\n    \n    # draw out the bank clovers and total symms on ax2 (the right graph)\n    df.plot('timestep', ['reward-eth-rotSym', 'reward-eth-x0Sym', 'reward-eth-y0Sym', 'reward-eth-xySym', 'reward-eth-xnySym', 'cost-to-mine'], ax=axs[1])\n    \n    # additionally draw out the totalSupply as a secondary axis on ax2 (the right graph)\n#     df.plot('timestep','bankClovers',secondary_y=True, ax=axs[1])\nelse:\n    for row_idx in range(0,num_runs):\n        df_run = df[df.run == (row_idx + 1)]\n        # draw out all the symmetries in a single graph, on ax1 (the left graph)\n        df_run.plot('timestep', ['reward-rotSym', 'reward-x0Sym', 'reward-y0Sym', 'reward-xySym', 'reward-xnySym'], grid=False, \n                ax=axs[row_idx,0]\n               )\n        \n        # draw out the bank clovers and total symms on ax2 (the right graph)\n        df_run.plot('timestep', 'clovers', ax=axs[row_idx,1])\n        \n        # additionally draw out the totalSupply as a secondary axis on ax2 (the right graph)\n#         df_run.plot('timestep','bankClovers',secondary_y=True, ax=axs[row_idx,1])\nutils.savefig(fig, previousRuns, num_timesteps, 'hrs-reward-graph')"
  },
  {
   "cell_type": "code",
   "execution_count": null,
   "metadata": {
    "scrolled": false,
    "trusted": true
   },
   "outputs": [],
   "source": "final_state = raw_result[-1]['s']\n# g = final_state['network']\ng = utils.getNetwork()\nminers = utils.get_nodes_by_type(final_state, 'miner')\nplayers = utils.get_nodes_by_type(final_state, 'player')\n\ng.nodes[miners[0]]\n\ncols_to_graph = ['eth-spent', 'eth-earned', 'supply']\n\nfig = plt.figure(figsize=(plt_width,(plt_row_height*num_runs)))\naxs = fig.subplots(num_runs, 2)\n\nfor row_idx in range(0,num_runs):\n\n    plot_data = [\n        {\n            \"nodes\": players,\n            \"title\": \"Final Balance (ETH & CLV) of Players\",\n            \"x_label\": \"Player\",\n            \"axis\": (axs[0] if num_runs == 1 else axs[row_idx,0])\n        },\n        {\n            \"nodes\": miners,\n            \"title\": \"Final Balance (ETH & CLV) of Miners\",\n            \"x_label\": \"Miner\",\n            \"axis\": (axs[1] if num_runs == 1 else axs[row_idx,1])\n        }\n    ]\n    \n    for plot in plot_data:\n        if (len(plot['nodes']) > 0):\n            pdf = pd.DataFrame([g.nodes[player] for player in plot['nodes']])\n            pdf[['eth-spent', 'eth-earned', 'supply']].plot(kind='bar', ax=plot['axis'], secondary_y='supply')\n        plot['axis'].set(xlabel=plot['x_label'], ylabel='ETH', title=plot['title'])\n        ax_2y = plot['axis'].twinx()\n        ax_2y.set_ylabel(\"CloverCoin\", labelpad=32)\n        ax_2y.set_yticks([])\nutils.savefig(fig, previousRuns, num_timesteps, 'hrs-eth-graph')"
  },
  {
   "cell_type": "code",
   "execution_count": null,
   "metadata": {
    "scrolled": false,
    "trusted": true
   },
   "outputs": [],
   "source": "# players = utils.get_nodes_by_type(raw_result[-1]['s'], 'player')\n# affinities = np.empty((len(players), num_timesteps))\n# # print(\"affinities\", affinities)\n# substeps = len(partial_state_update_blocks)\n# for i_ind in range(len(players)):\n#     nodeId = players[i_ind]\n#     for j_ind in range(num_timesteps):\n#         g = raw_result[j_ind*substeps]['s']['network']\n#         # this line below sets the value to determine the color\n#         # for a given player/timestep combination\n#         # len(list(g.successors(i_ind))) => owned clovers by this user\n#         if g.has_node(nodeId):\n#             affinities[i_ind][j_ind] = len(list(g.successors(nodeId)))\n#         else:\n#             affinities[i_ind][j_ind] = 0\n\n# dims = (20, 8)\n# # adjust the dimensions\n\n# fig, ax = plt.subplots(figsize=dims)\n\n# sns.heatmap(affinities,\n#             cbar=True, ax=ax)\n\n# plt.title('Clovers owned by player, over time')\n# plt.ylabel('Players')\n# plt.xlabel('Timestep')\n# utils.savefig(fig, previousRuns, num_timesteps, 'hrs-owners-graph')"
  },
  {
   "cell_type": "code",
   "execution_count": null,
   "metadata": {
    "scrolled": false,
    "trusted": true
   },
   "outputs": [],
   "source": "# states = [\n#     {\"payMultiplier\": 0.20, \"balance\":17.016753, \"totalSupply\": 14291.312794, \"clovers\": 9225},\n#     {\"payMultiplier\": 0.21, \"balance\":14.666017, \"totalSupply\": 14314.145592, \"clovers\": 10406},\n#     {\"payMultiplier\": 0.22, \"balance\":12.515104, \"totalSupply\": 14327.019669, \"clovers\": 11401},\n#     {\"payMultiplier\": 0.23, \"balance\":10.490474, \"totalSupply\": 14297.158162, \"clovers\": 12203},\n#     {\"payMultiplier\": 0.24, \"balance\":8.686000, \"totalSupply\": 14310.146756, \"clovers\": 12790},\n#     {\"payMultiplier\": 0.25, \"balance\":7.028548, \"totalSupply\": 14314.246525, \"clovers\": 13336},\n#     {\"payMultiplier\": 0.26, \"balance\":5.492877, \"totalSupply\": 14323.500632, \"clovers\": 13837},\n#     {\"payMultiplier\": 0.27, \"balance\":5.493877, \"totalSupply\": 14323.500632, \"clovers\": 13837},\n#     {\"payMultiplier\": 0.28, \"balance\":2.726562, \"totalSupply\": 14323.155641, \"clovers\": 14343},\n#     {\"payMultiplier\": 0.29, \"balance\":1.499142, \"totalSupply\": 14323.301790, \"clovers\": 14544},\n#     {\"payMultiplier\": 0.30, \"balance\":0.355566, \"totalSupply\": 14323.477380, \"clovers\": 14675},\n#     {\"payMultiplier\": 0.31, \"balance\":0.000700, \"totalSupply\": 14382.733430, \"clovers\": 14218},\n#     {\"payMultiplier\": 0.32, \"balance\":0.008572, \"totalSupply\": 20620.749644, \"clovers\": 17451},\n#     {\"payMultiplier\": 0.325, \"balance\":0.009267, \"totalSupply\": 21784.734994, \"clovers\": 17778},\n#     {\"payMultiplier\": 0.326, \"balance\":0.005898, \"totalSupply\": 22876.389313, \"clovers\": 18401},\n#     {\"payMultiplier\": 0.327, \"balance\":0.005898, \"totalSupply\": 22876.389313, \"clovers\": 18401},\n#     {\"payMultiplier\": 0.33, \"balance\":0.000397, \"totalSupply\": 14338.616595, \"clovers\": 13370},\n# ]\n\n# fig = plt.figure(figsize=(16,5))\n# axs = fig.subplots(1, 2)\n# states = pd.DataFrame(states)\n# # draw out all the symmetries in a single graph, on ax1 (the left graph)\n# states.plot('payMultiplier', 'clovers', grid=False, ax=axs[0])\n# states.plot('payMultiplier', ['balance', 'totalSupply'], secondary_y=['totalSupply'], grid=False, ax=axs[1])\n\n    "
  },
  {
   "cell_type": "code",
   "execution_count": null,
   "metadata": {
    "scrolled": true,
    "trusted": true
   },
   "outputs": [],
   "source": "# players = utils.get_nodes_by_type(raw_result[-1]['s'], 'player')\n\n# affinities = np.empty((len(players), num_timesteps))\n# substeps = len(partial_state_update_blocks)\n\n# for i_ind in range(len(players)):\n#     playerId = players[i_ind]\n#     for j_ind in range(num_timesteps):\n#         g = raw_result[j_ind*substeps]['s']['network']\n#         # this line below sets the value to determine the color\n#         # for a given player/timestep combination\n#         # len(list(g.successors(i_ind))) => owned clovers by this user\n#         if g.has_node(playerId):\n#             affinities[i_ind][j_ind] = g.nodes[playerId]['is_active']\n#         else:\n#             affinities[i_ind][j_ind] = False\n\n# dims = (20, 5)\n\n# fig, ax = plt.subplots(figsize=dims)\n\n# sns.heatmap(affinities,\n#             cbar=True, ax=ax)\n\n# plt.title('Clovers owned by player, over time')\n# plt.ylabel('Players')\n# plt.xlabel('Timestep')\n# utils.savefig(fig, previousRuns, num_timesteps, 'hrs-active-graph')"
  },
  {
   "cell_type": "code",
   "execution_count": null,
   "metadata": {
    "trusted": true
   },
   "outputs": [],
   "source": "# def test_function():\n#     step = 1\n#     s = raw_result[step]\n\n#     _input = policies.miner_policy([params], step, None, s)\n#     s['s'] = state_updates.update_state_miner_policy(None, step, None, s, _input)[1]\n\n#     _input = policies.player_policy([params], step, None, s)\n#     s['s'] = state_updates.update_state(None, step, None, s, _input)[1]\n    \n#     _input = policies.market_activity_policy([params], step, None, s)\n#     s['s'] = state_updates.update_state(None, step, None, s, _input)[1]\n#     return s\n# # %lprun -f utils.processBuysAndSells test_function()\n# %lprun \\\n# -f state_updates.update_state_miner_policy \\\n# -f state_updates.utils.saveNetwork \\\n# test_function()"
  },
  {
   "cell_type": "code",
   "execution_count": null,
   "metadata": {
    "trusted": true
   },
   "outputs": [],
   "source": "import glob\nimport sys\nfrom PIL import Image\n\nimageList = glob.glob(\"tmp/*.png\")\n\nimages = list(map(Image.open, imageList))\nwidths, heights = zip(*(i.size for i in images))\n\nmax_width = max(widths)\ntotal_height = sum(heights)\n\nnew_im = Image.new('RGBA', (max_width, total_height))\n\ny_offset = 0\nfor im in images:\n  new_im.paste(im, (0,y_offset))\n  y_offset += im.size[1]\n\nnew_im.save('output.png')"
  },
  {
   "cell_type": "code",
   "execution_count": null,
   "metadata": {
    "trusted": true
   },
   "outputs": [],
   "source": ""
  }
 ],
 "metadata": {
  "kernelspec": {
   "display_name": "Python 3",
   "language": "python",
   "name": "python3"
  },
  "language_info": {
   "codemirror_mode": {
    "name": "ipython",
    "version": 3
   },
   "file_extension": ".py",
   "mimetype": "text/x-python",
   "name": "python",
   "nbconvert_exporter": "python",
   "pygments_lexer": "ipython3",
   "version": "3.6.8"
  }
 },
 "nbformat": 4,
 "nbformat_minor": 2
}