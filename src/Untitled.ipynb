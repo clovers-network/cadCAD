{
 "cells": [
  {
   "cell_type": "code",
   "execution_count": null,
   "metadata": {
    "trusted": true
   },
   "outputs": [
    {
     "name": "stdout",
     "output_type": "stream",
     "text": "100000\n200000\n300000\n400000\n500000\n600000\n700000\n800000\n900000\n1000000\n1100000\n1200000\n1300000\n1400000\n1500000\n1600000\n1700000\n1800000\n1900000\n2000000\n2100000\n2200000\n2300000\n2400000\n2500000\n2600000\n2700000\n2800000\n2900000\n3000000\n3100000\n3200000\n3300000\n3400000\n3500000\n3600000\n3700000\n3800000\n3900000\n4000000\n4100000\n4200000\n4300000\n4400000\n4500000\n4600000\n4700000\n4800000\n4900000\n5000000\n5100000\n5200000\n5300000\n5400000\n5500000\n5600000\n5700000\n5800000\n5900000\n6000000\n6100000\n6200000\n6300000\n6400000\n6500000\n6600000\n6700000\n6800000\n6900000\n7000000\n7100000\n7200000\n7300000\n7400000\n7500000\n7600000\n7700000\n7800000\n7900000\n8000000\n8100000\n8200000\n8300000\n8400000\n8500000\n8600000\n8700000\n8800000\n8900000\n9000000\n9100000\n9200000\n9300000\n9400000\n9500000\n9600000\n9700000\n9800000\n9900000\n10000000\n10100000\n10200000\n10300000\n10400000\n10500000\n10600000\n10700000\n10800000\n10900000\n11000000\n11100000\n11200000\n11300000\n11400000\n11500000\n11600000\n11700000\n11800000\n11900000\n12000000\n12100000\n12200000\n12300000\n12400000\n12500000\n12600000\n12700000\n12800000\n12900000\n13000000\n13100000\n13200000\n13300000\n13400000\n13500000\n13600000\n13700000\n13800000\n13900000\n14000000\n14100000\n14200000\n14300000\n14400000\n"
    }
   ],
   "source": "from copy import deepcopy\nimport itertools    \n\ndim = 6\ntotal = dim**2\nboard = []\nboards = []\ncolrs = ['b', 'w']\n\ndef print_board_for(board):\n    for row in board:\n        print(row)\n\n# board = [[\"-\" for _ in range(dim)] for _ in range(dim)]\n# board\n\n# import itertools\n# games = [zip(p, range(0, total)) for p in itertools.product([0, 1], repeat=total)]\n# games[0]\n\n\n\ndef isSymmetrical(board):\n    RotSym = True\n    Y0Sym = True\n    X0Sym = True\n    XYSym = True\n    XnYSym = True\n    for i in range(dim):\n        for j in range(dim):\n            pos = (i * dim) + j\n            \n            xi = (((dim - 1) - i) * dim)\n            yj = (dim - 1 - j)\n            \n            xj = (((dim - 1) - j) * dim)\n            yi = (dim - 1 - i)\n            # rot\n            rot = xi + yj\n            if board[pos] != board[rot]:\n                RotSym = False\n            # y = 0\n            y0 = (i * dim) + yj\n            if board[pos] != board[y0]:\n                Y0Sym = False\n            # x = 0\n            x0 = xi + j\n            if board[pos] != board[x0]:\n                X0Sym = False\n            # x = y\n            xy = xj + yi\n            if board[pos] != board[xy]:\n                XYSym = False\n            # x != y\n            xny = (j * dim) + i\n            if board[pos] != board[xny]:\n                XnYSym = False\n    return {\n        \"Symmetrical\" : (RotSym or Y0Sym or X0Sym or XYSym or XnYSym),\n        \"RotSym\": RotSym,\n        \"Y0Sym\": Y0Sym,\n        \"X0Sym\": X0Sym,\n        \"XYSym\": XYSym,\n        \"XnYSym\": XnYSym\n    }\n                \nallGames = (itertools.product([0, 1], repeat=total))\ncount = 0\nsym = 0\nfor game in allGames:\n    count += 1\n    if (count % 100000 == 0):\n        print(count)\n    result = isSymmetrical(game)\n    if result[\"Symmetrical\"]:\n        sym += 1\nprint(\"total games\", count)\nprint(\"total syms\", sym)\n"
  },
  {
   "cell_type": "code",
   "execution_count": null,
   "metadata": {
    "trusted": true
   },
   "outputs": [],
   "source": "print(16 / 16) # 2\nprint(225 / 512) # 3\nprint(2656 / 65536) # 4\nprint(137216 / 33554432) #5\n'%f' % (130000 / 30000000000) #8"
  }
 ],
 "metadata": {
  "kernelspec": {
   "display_name": "Python 3",
   "language": "python",
   "name": "python3"
  }
 },
 "nbformat": 4,
 "nbformat_minor": 2
}