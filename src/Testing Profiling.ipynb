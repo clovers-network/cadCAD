{
 "metadata": {
  "kernelspec": {
   "language": "python",
   "display_name": "Python 3",
   "name": "python3"
  },
  "language_info": {
   "file_extension": ".py",
   "mimetype": "text/x-python",
   "nbconvert_exporter": "python",
   "name": "python",
   "pygments_lexer": "ipython3",
   "version": "3.6.8",
   "codemirror_mode": {
    "version": 3,
    "name": "ipython"
   }
  }
 },
 "cells": [
  {
   "execution_count": 9,
   "cell_type": "code",
   "outputs": [],
   "metadata": {
    "trusted": true
   },
   "source": "%%capture\n%load_ext line_profiler\n%matplotlib\n\ndef sum_of_lists(N):\n    total = 0\n    for i in range(5):\n        L = [j ^ (j >> i) for j in range(N)]\n        total += sum(L)\n    return total\n\n%lprun -f sum_of_lists sum_of_lists(5000)"
  },
  {
   "execution_count": 1,
   "cell_type": "code",
   "outputs": [
    {
     "output_type": "stream",
     "text": "5\n",
     "name": "stdout"
    }
   ],
   "metadata": {
    "trusted": true
   },
   "source": "print(5)"
  },
  {
   "execution_count": 11,
   "cell_type": "code",
   "outputs": [
    {
     "output_type": "stream",
     "text": "from typing import Dict, Callable, List, Tuple\r\nfrom functools import reduce\r\nimport pandas as pd\r\nfrom pandas.core.frame import DataFrame\r\n\r\nfrom cadCAD import configs\r\nfrom cadCAD.utils import key_filter\r\nfrom cadCAD.configuration.utils import exo_update_per_ts\r\nfrom cadCAD.configuration.utils.policyAggregation import dict_elemwise_sum\r\nfrom cadCAD.configuration.utils.depreciationHandler import sanitize_partial_state_updates, sanitize_config\r\n\r\n# policy_ops=[foldr(dict_elemwise_sum())]\r\n# policy_ops=[reduce, lambda a, b: {**a, **b}]\r\n\r\nclass Configuration(object):\r\n    def __init__(self, sim_config={}, initial_state={}, seeds={}, env_processes={},\r\n                 exogenous_states={}, partial_state_update_blocks={}, policy_ops=[lambda a, b: a + b],\r\n                 **kwargs) -> None:\r\n        # print(exogenous_states)\r\n        self.sim_config = sim_config\r\n        self.initial_state = initial_state\r\n        self.seeds = seeds\r\n        self.env_processes = env_processes\r\n        self.exogenous_states = exogenous_states\r\n        self.partial_state_updates = partial_state_update_blocks\r\n        self.policy_ops = policy_ops\r\n        self.kwargs = kwargs\r\n\r\n        sanitize_config(self)\r\n\r\n# ToDo: Remove Seeds\r\ndef append_configs(sim_configs={}, initial_state={}, seeds={}, raw_exogenous_states={}, env_processes={},\r\n                   partial_state_update_blocks={}, policy_ops=[lambda a, b: a + b], _exo_update_per_ts: bool = True) -> None:\r\n    if _exo_update_per_ts is True:\r\n        exogenous_states = exo_update_per_ts(raw_exogenous_states)\r\n    else:\r\n        exogenous_states = raw_exogenous_states\r\n\r\n    if isinstance(sim_configs, dict):\r\n        sim_configs = [sim_configs]\r\n\r\n    for sim_config in sim_configs:\r\n        config = Configuration(\r\n            sim_config=sim_config,\r\n            initial_state=initial_state,\r\n            seeds=seeds,\r\n            exogenous_states=exogenous_states,\r\n            env_processes=env_processes,\r\n            partial_state_update_blocks=partial_state_update_blocks,\r\n            policy_ops=policy_ops\r\n        )\r\n        configs.append(config)\r\n\r\n\r\nclass Identity:\r\n    def __init__(self, policy_id: Dict[str, int] = {'identity': 0}) -> None:\r\n        self.beh_id_return_val = policy_id\r\n\r\n    def p_identity(self, var_dict, sub_step, sL, s):\r\n        return self.beh_id_return_val\r\n\r\n    def policy_identity(self, k: str) -> Callable:\r\n        return self.p_identity\r\n\r\n    def no_state_identity(self, var_dict, sub_step, sL, s, _input):\r\n        return None\r\n\r\n    def state_identity(self, k: str) -> Callable:\r\n        return lambda var_dict, sub_step, sL, s, _input: (k, s[k])\r\n\r\n    def apply_identity_funcs(self, identity: Callable, df: DataFrame, cols: List[str]) -> List[DataFrame]:\r\n        def fillna_with_id_func(identity, df, col):\r\n            return df[[col]].fillna(value=identity(col))\r\n\r\n        return list(map(lambda col: fillna_with_id_func(identity, df, col), cols))\r\n\r\n\r\nclass Processor:\r\n    def __init__(self, id: Identity = Identity()) -> None:\r\n        self.id = id\r\n        self.p_identity = id.p_identity\r\n        self.policy_identity = id.policy_identity\r\n        self.no_state_identity = id.no_state_identity\r\n        self.state_identity = id.state_identity\r\n        self.apply_identity_funcs = id.apply_identity_funcs\r\n\r\n    def create_matrix_field(self, partial_state_updates, key: str) -> DataFrame:\r\n        if key == 'variables':\r\n            identity = self.state_identity\r\n        elif key == 'policies':\r\n            identity = self.policy_identity\r\n\r\n        df = pd.DataFrame(key_filter(partial_state_updates, key))\r\n        col_list = self.apply_identity_funcs(identity, df, list(df.columns))\r\n        if len(col_list) != 0:\r\n            return reduce((lambda x, y: pd.concat([x, y], axis=1)), col_list)\r\n        else:\r\n            return pd.DataFrame({'empty': []})\r\n\r\n    def generate_config(self, initial_state, partial_state_updates, exo_proc\r\n                       ) -> List[Tuple[List[Callable], List[Callable]]]:\r\n\r\n        def no_update_handler(bdf, sdf):\r\n            if (bdf.empty == False) and (sdf.empty == True):\r\n                bdf_values = bdf.values.tolist()\r\n                sdf_values = [[self.no_state_identity] * len(bdf_values) for m in range(len(partial_state_updates))]\r\n                return sdf_values, bdf_values\r\n            elif (bdf.empty == True) and (sdf.empty == False):\r\n                sdf_values = sdf.values.tolist()\r\n                bdf_values = [[self.p_identity] * len(sdf_values) for m in range(len(partial_state_updates))]\r\n                return sdf_values, bdf_values\r\n            else:\r\n                sdf_values = sdf.values.tolist()\r\n                bdf_values = bdf.values.tolist()\r\n                return sdf_values, bdf_values\r\n\r\n        def only_ep_handler(state_dict):\r\n            sdf_functions = [\r\n                lambda var_dict, sub_step, sL, s, _input: (k, v) for k, v in zip(state_dict.keys(), state_dict.values())\r\n            ]\r\n            sdf_values = [sdf_functions]\r\n            bdf_values = [[self.p_identity] * len(sdf_values)]\r\n            return sdf_values, bdf_values\r\n\r\n        if len(partial_state_updates) != 0:\r\n            # backwards compatibility # ToDo: Move this\r\n            partial_state_updates = sanitize_partial_state_updates(partial_state_updates)\r\n\r\n            bdf = self.create_matrix_field(partial_state_updates, 'policies')\r\n            sdf = self.create_matrix_field(partial_state_updates, 'variables')\r\n            sdf_values, bdf_values = no_update_handler(bdf, sdf)\r\n            zipped_list = list(zip(sdf_values, bdf_values))\r\n        else:\r\n            sdf_values, bdf_values = only_ep_handler(initial_state)\r\n            zipped_list = list(zip(sdf_values, bdf_values))\r\n\r\n        return list(map(lambda x: (x[0] + exo_proc, x[1]), zipped_list))\r\n",
     "name": "stdout"
    }
   ],
   "metadata": {
    "trusted": true
   },
   "source": "!cat /opt/tljh/user/lib/python3.6/site-packages/cadCAD/configuration/__init__.py"
  }
 ],
 "nbformat": 4,
 "nbformat_minor": 2
}