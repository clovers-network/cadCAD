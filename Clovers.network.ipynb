{
 "cells": [
  {
   "cell_type": "code",
   "execution_count": 2,
   "metadata": {},
   "outputs": [],
   "source": [
    "%%capture\n",
    "from numpy.random import rand\n",
    "\n",
    "import importlib\n",
    "import policies\n",
    "import config\n",
    "import state_updates\n",
    "import utils\n",
    "\n",
    "importlib.reload(config)\n",
    "importlib.reload(policies)\n",
    "importlib.reload(state_updates)\n",
    "importlib.reload(utils)\n",
    "\n",
    "initial_conditions, rarity, market_settings = config.initial_conditions, config.rarity, config.market_settings"
   ]
  },
  {
   "cell_type": "code",
   "execution_count": 3,
   "metadata": {},
   "outputs": [],
   "source": [
    "num_runs = 2"
   ]
  },
  {
   "cell_type": "code",
   "execution_count": 4,
   "metadata": {},
   "outputs": [
    {
     "ename": "AttributeError",
     "evalue": "module 'policies' has no attribute 'addToSymms_policy'",
     "output_type": "error",
     "traceback": [
      "\u001b[0;31m---------------------------------------------------------------------------\u001b[0m",
      "\u001b[0;31mAttributeError\u001b[0m                            Traceback (most recent call last)",
      "\u001b[0;32m<ipython-input-4-86ea4777068b>\u001b[0m in \u001b[0;36m<module>\u001b[0;34m\u001b[0m\n\u001b[1;32m     19\u001b[0m     { \n\u001b[1;32m     20\u001b[0m         'policies': { # The following policy functions will be evaluated and their returns will be passed to the state update functions\n\u001b[0;32m---> 21\u001b[0;31m             \u001b[0;34m'addToSymms'\u001b[0m\u001b[0;34m:\u001b[0m \u001b[0mpolicies\u001b[0m\u001b[0;34m.\u001b[0m\u001b[0maddToSymms_policy\u001b[0m\u001b[0;34m\u001b[0m\u001b[0;34m\u001b[0m\u001b[0m\n\u001b[0m\u001b[1;32m     22\u001b[0m         },\n\u001b[1;32m     23\u001b[0m         'variables': { # The following state variables will be updated simultaneously\n",
      "\u001b[0;31mAttributeError\u001b[0m: module 'policies' has no attribute 'addToSymms_policy'"
     ]
    }
   ],
   "source": [
    "\n",
    "\n",
    "simulation_parameters = {\n",
    "    'T': range(300),\n",
    "    'N': num_runs,\n",
    "    'M': {}\n",
    "}\n",
    "\n",
    "\n",
    "initialized_conditions = utils.initialize(market_settings, initial_conditions)\n",
    "\n",
    "\n",
    "\n",
    "# # # # # # # # # # # # # # # # # # # # # # # # # # # # # # # # # # # # # # # # # # # # # # # # \n",
    "# In the Partial State Update Blocks, \n",
    "# the user specifies if state update functions will be run in series or in parallel\n",
    "# and the policy functions that will be evaluated in that block\n",
    "partial_state_update_blocks = [\n",
    "    { \n",
    "        'policies': { # The following policy functions will be evaluated and their returns will be passed to the state update functions\n",
    "            'addToSymms': policies.addToSymms_policy\n",
    "        },\n",
    "        'variables': { # The following state variables will be updated simultaneously\n",
    "            'bc-balance': state_updates.bc_balance,\n",
    "            'bc-totalSupply': state_updates.bc_totalSupply,\n",
    "            'bankClovers': state_updates.bankClovers,\n",
    "            'clovers': state_updates.clovers,\n",
    "            'symms': state_updates.symms,\n",
    "            'rotSym': state_updates.rotSym,\n",
    "            'y0Sym': state_updates.y0Sym,\n",
    "            'x0Sym': state_updates.x0Sym,\n",
    "            'xySym': state_updates.xySym,\n",
    "            'xnySym': state_updates.xnySym\n",
    "        }\n",
    "    }\n",
    "]\n",
    "\n",
    "partial_state_update_blockzzzs = [\n",
    "    did_mining_happen,\n",
    "    player_interactions,\n",
    "    market_interactions,\n",
    "    speculators\n",
    "]\n",
    "\n",
    "# # # # # # # # # # # # # # # # # # # # # # # # # # # # # # # # # # # # # # # # # # # # # # # # \n",
    "\n",
    "\n",
    "\n",
    "from cadCAD.configuration import Configuration\n",
    "# # # # # # # # # # # # # # # # # # # # # # # # # # # # # # # # # # # # # # # # # # # # # # # # \n",
    "# The configurations above are then packaged into a `Configuration` object\n",
    "config = Configuration(initial_state=initial_conditions.copy(), #dict containing variable names and initial values\n",
    "                       partial_state_update_blocks=partial_state_update_blocks, #dict containing state update functions\n",
    "                       sim_config=simulation_parameters #dict containing simulation parameters\n",
    "                      )\n",
    "\n",
    "from cadCAD.engine import ExecutionMode, ExecutionContext, Executor\n",
    "exec_mode = ExecutionMode()\n",
    "exec_context = ExecutionContext(exec_mode.single_proc)\n",
    "executor = Executor(exec_context, [config]) # Pass the configuration object inside an array\n",
    "raw_result, tensor = executor.main() # The `main()` method returns a tuple; its first elements contains the raw results\n"
   ]
  },
  {
   "cell_type": "code",
   "execution_count": 10,
   "metadata": {},
   "outputs": [
    {
     "ename": "NameError",
     "evalue": "name 'raw_result' is not defined",
     "output_type": "error",
     "traceback": [
      "\u001b[0;31m---------------------------------------------------------------------------\u001b[0m",
      "\u001b[0;31mNameError\u001b[0m                                 Traceback (most recent call last)",
      "\u001b[0;32m<ipython-input-10-37ee4ddaf105>\u001b[0m in \u001b[0;36m<module>\u001b[0;34m\u001b[0m\n\u001b[1;32m      5\u001b[0m \u001b[0;32mimport\u001b[0m \u001b[0mmath\u001b[0m\u001b[0;34m\u001b[0m\u001b[0;34m\u001b[0m\u001b[0m\n\u001b[1;32m      6\u001b[0m \u001b[0;34m\u001b[0m\u001b[0m\n\u001b[0;32m----> 7\u001b[0;31m \u001b[0mdf\u001b[0m \u001b[0;34m=\u001b[0m \u001b[0mpd\u001b[0m\u001b[0;34m.\u001b[0m\u001b[0mDataFrame\u001b[0m\u001b[0;34m(\u001b[0m\u001b[0mraw_result\u001b[0m\u001b[0;34m)\u001b[0m\u001b[0;34m\u001b[0m\u001b[0;34m\u001b[0m\u001b[0m\n\u001b[0m\u001b[1;32m      8\u001b[0m \u001b[0;34m\u001b[0m\u001b[0m\n\u001b[1;32m      9\u001b[0m \u001b[0;31m# adding new useful columns for graphing\u001b[0m\u001b[0;34m\u001b[0m\u001b[0;34m\u001b[0m\u001b[0;34m\u001b[0m\u001b[0m\n",
      "\u001b[0;31mNameError\u001b[0m: name 'raw_result' is not defined"
     ]
    }
   ],
   "source": [
    "%matplotlib inline\n",
    "\n",
    "import matplotlib.pyplot as plt\n",
    "import pandas as pd\n",
    "import math\n",
    "\n",
    "df = pd.DataFrame(raw_result)\n",
    "\n",
    "# adding new useful columns for graphing\n",
    "df['coin-price'] = utils.calculateCurrentPrice(\n",
    "    (df['bc-totalSupply'] + market_settings['bc-virtualSupply']),\n",
    "    (df['bc-balance'] + market_settings['bc-virtualBalance']),\n",
    "    market_settings['bc-reserveRatio'])"
   ]
  },
  {
   "cell_type": "code",
   "execution_count": null,
   "metadata": {},
   "outputs": [],
   "source": [
    "fig = plt.figure(figsize=(16,7))\n",
    "axs = fig.subplots(1, 2)\n",
    "\n",
    "df[df.run == 2].plot('timestep', ['bc-balance', 'bc-totalSupply'], secondary_y=['bc-totalSupply'], ax=axs[0])\n",
    "df[df.run == 2].plot('timestep', ['coin-price', 'bankClovers'], secondary_y=['bankClovers'], ax=axs[1])"
   ]
  },
  {
   "cell_type": "code",
   "execution_count": null,
   "metadata": {},
   "outputs": [],
   "source": [
    "df_run = df[df.run == 1]\n",
    "df_run.plot('timestep', ['bc-totalSupply'], grid=False, \n",
    "        xticks=[], \n",
    "        colormap = 'RdYlGn'#,\n",
    "       )"
   ]
  },
  {
   "cell_type": "code",
   "execution_count": null,
   "metadata": {},
   "outputs": [],
   "source": [
    "row_height = 5\n",
    "# set a figure with initial dimensions\n",
    "fig = plt.figure(figsize=(16,(row_height*num_runs)))\n",
    "\n",
    "# create 2 axes (2 graphs) laid out in a 1x2 grid, and set them each to a variable\n",
    "axs = fig.subplots(num_runs, 2)\n",
    "\n",
    "for row_idx in range(0,num_runs):\n",
    "    df_run = df[df.run == (row_idx + 1)]\n",
    "    # draw out all the symmetries in a single graph, on ax1 (the left graph)\n",
    "    df_run.plot('timestep', ['rotSym', 'x0Sym', 'y0Sym', 'xySym', 'xnySym'], grid=False, \n",
    "            ax=axs[row_idx,0]\n",
    "           )\n",
    "    \n",
    "    # draw out the bank clovers and total symms on ax2 (the right graph)\n",
    "    df_run.plot('timestep', ['symms','bankClovers'], ax=axs[row_idx,1])\n",
    "    \n",
    "    # additionally draw out the totalSupply as a secondary axis on ax2 (the right graph)\n",
    "    df_run.plot('timestep','bc-totalSupply',secondary_y=True, ax=axs[row_idx,1])"
   ]
  },
  {
   "cell_type": "code",
   "execution_count": 11,
   "metadata": {},
   "outputs": [
    {
     "ename": "NameError",
     "evalue": "name 'df' is not defined",
     "output_type": "error",
     "traceback": [
      "\u001b[0;31m---------------------------------------------------------------------------\u001b[0m",
      "\u001b[0;31mNameError\u001b[0m                                 Traceback (most recent call last)",
      "\u001b[0;32m<ipython-input-11-dceffd551567>\u001b[0m in \u001b[0;36m<module>\u001b[0;34m\u001b[0m\n\u001b[0;32m----> 1\u001b[0;31m \u001b[0mdf\u001b[0m\u001b[0;34m[\u001b[0m\u001b[0mdf\u001b[0m\u001b[0;34m.\u001b[0m\u001b[0mrun\u001b[0m \u001b[0;34m==\u001b[0m \u001b[0;36m1\u001b[0m\u001b[0;34m]\u001b[0m\u001b[0;34m\u001b[0m\u001b[0;34m\u001b[0m\u001b[0m\n\u001b[0m",
      "\u001b[0;31mNameError\u001b[0m: name 'df' is not defined"
     ]
    }
   ],
   "source": [
    "df[df.run == 1]"
   ]
  },
  {
   "cell_type": "code",
   "execution_count": null,
   "metadata": {},
   "outputs": [],
   "source": []
  },
  {
   "cell_type": "code",
   "execution_count": null,
   "metadata": {},
   "outputs": [],
   "source": []
  },
  {
   "cell_type": "code",
   "execution_count": 12,
   "metadata": {},
   "outputs": [
    {
     "ename": "NameError",
     "evalue": "name 'rand_clovers' is not defined",
     "output_type": "error",
     "traceback": [
      "\u001b[0;31m---------------------------------------------------------------------------\u001b[0m",
      "\u001b[0;31mNameError\u001b[0m                                 Traceback (most recent call last)",
      "\u001b[0;32m<ipython-input-12-7d7dd644c2c3>\u001b[0m in \u001b[0;36m<module>\u001b[0;34m\u001b[0m\n\u001b[1;32m      1\u001b[0m \u001b[0mrare_clovers\u001b[0m \u001b[0;34m=\u001b[0m \u001b[0;36m3.6\u001b[0m\u001b[0;34m\u001b[0m\u001b[0;34m\u001b[0m\u001b[0m\n\u001b[1;32m      2\u001b[0m \u001b[0;34m\u001b[0m\u001b[0m\n\u001b[0;32m----> 3\u001b[0;31m \u001b[0mrand\u001b[0m\u001b[0;34m(\u001b[0m\u001b[0;34m)\u001b[0m \u001b[0;34m<\u001b[0m \u001b[0;34m(\u001b[0m\u001b[0mrare_clovers\u001b[0m \u001b[0;34m%\u001b[0m \u001b[0mmath\u001b[0m\u001b[0;34m.\u001b[0m\u001b[0mfloor\u001b[0m\u001b[0;34m(\u001b[0m\u001b[0mrand_clovers\u001b[0m\u001b[0;34m)\u001b[0m\u001b[0;34m)\u001b[0m\u001b[0;34m\u001b[0m\u001b[0;34m\u001b[0m\u001b[0m\n\u001b[0m",
      "\u001b[0;31mNameError\u001b[0m: name 'rand_clovers' is not defined"
     ]
    }
   ],
   "source": [
    "rare_clovers = 3.6\n",
    "\n",
    "rand() < (rare_clovers % math.floor(rand_clovers))"
   ]
  },
  {
   "cell_type": "code",
   "execution_count": 13,
   "metadata": {},
   "outputs": [
    {
     "data": {
      "text/plain": [
       "0.00010499620005655075"
      ]
     },
     "execution_count": 13,
     "metadata": {},
     "output_type": "execute_result"
    }
   ],
   "source": [
    "\n",
    "\n",
    "\n",
    "\n",
    "rarity = {\n",
    "    'rotSym':      0.000005, # 5/100 symmetrical clovers are rotational\n",
    "    'y0Sym':       0.000010,  # 10/100 symmetrical clovers are y=0\n",
    "    'x0Sym':       0.000010,  # 10/100 symmetrical clovers are x=0\n",
    "    'xySym':       0.000040,  # 40/100 symmetrical clovers are x=y\n",
    "    'xnySym':      0.000040  # 40/100 symmetrical clovers are x=-y\n",
    "}\n",
    "\n",
    "\n",
    "\n",
    "probIsRare = 1-(1-rarity['rotSym'])*(1-rarity['y0Sym'])*(1-rarity['x0Sym'])*(1-rarity['xySym'])*(1-rarity['xnySym'])\n",
    "\n",
    "\n",
    "probIsRare\n"
   ]
  },
  {
   "cell_type": "code",
   "execution_count": 14,
   "metadata": {},
   "outputs": [],
   "source": [
    "combinationSymmetries = utils.createCombinationRarities(rarity)"
   ]
  },
  {
   "cell_type": "code",
   "execution_count": 15,
   "metadata": {},
   "outputs": [
    {
     "name": "stdout",
     "output_type": "stream",
     "text": [
      "('rotSym',): 0.000005\n",
      "('x0Sym',): 0.000010\n",
      "('y0Sym',): 0.000010\n",
      "('xySym',): 0.000040\n",
      "('xnySym',): 0.000040\n",
      "('rotSym', 'x0Sym'): 0.000000\n",
      "('rotSym', 'y0Sym'): 0.000000\n",
      "('rotSym', 'xySym'): 0.000000\n",
      "('rotSym', 'xnySym'): 0.000000\n",
      "('x0Sym', 'y0Sym'): 0.000000\n",
      "('x0Sym', 'xySym'): 0.000000\n",
      "('x0Sym', 'xnySym'): 0.000000\n",
      "('y0Sym', 'xySym'): 0.000000\n",
      "('y0Sym', 'xnySym'): 0.000000\n",
      "('xySym', 'xnySym'): 0.000000\n",
      "('rotSym', 'x0Sym', 'y0Sym'): 0.000000\n",
      "('rotSym', 'x0Sym', 'xySym'): 0.000000\n",
      "('rotSym', 'x0Sym', 'xnySym'): 0.000000\n",
      "('rotSym', 'y0Sym', 'xySym'): 0.000000\n",
      "('rotSym', 'y0Sym', 'xnySym'): 0.000000\n",
      "('rotSym', 'xySym', 'xnySym'): 0.000000\n",
      "('x0Sym', 'y0Sym', 'xySym'): 0.000000\n",
      "('x0Sym', 'y0Sym', 'xnySym'): 0.000000\n",
      "('x0Sym', 'xySym', 'xnySym'): 0.000000\n",
      "('y0Sym', 'xySym', 'xnySym'): 0.000000\n",
      "('rotSym', 'x0Sym', 'y0Sym', 'xySym'): 0.000000\n",
      "('rotSym', 'x0Sym', 'y0Sym', 'xnySym'): 0.000000\n",
      "('rotSym', 'x0Sym', 'xySym', 'xnySym'): 0.000000\n",
      "('rotSym', 'y0Sym', 'xySym', 'xnySym'): 0.000000\n",
      "('x0Sym', 'y0Sym', 'xySym', 'xnySym'): 0.000000\n",
      "('rotSym', 'x0Sym', 'y0Sym', 'xySym', 'xnySym'): 0.000000\n"
     ]
    }
   ],
   "source": [
    "for k,v in combinationSymmetries.items():\n",
    "    print(\"%s: %f\" % (k,v))"
   ]
  },
  {
   "cell_type": "code",
   "execution_count": 164,
   "metadata": {},
   "outputs": [
    {
     "data": {
      "text/plain": [
       "'0.000003'"
      ]
     },
     "execution_count": 164,
     "metadata": {},
     "output_type": "execute_result"
    }
   ],
   "source": [
    "'%f' % (3/1000000)"
   ]
  },
  {
   "cell_type": "code",
   "execution_count": 168,
   "metadata": {},
   "outputs": [
    {
     "data": {
      "text/plain": [
       "'hey 2.000000'"
      ]
     },
     "execution_count": 168,
     "metadata": {},
     "output_type": "execute_result"
    }
   ],
   "source": [
    "'%s %f' % (\"hey\", 2)"
   ]
  },
  {
   "cell_type": "code",
   "execution_count": 28,
   "metadata": {},
   "outputs": [
    {
     "data": {
      "text/plain": [
       "{'rotSym': 0.03834510595358224,\n",
       " 'x0Sym': 0.1099899091826438,\n",
       " 'xySym': 0.3834510595358224,\n",
       " 'xnySym': 0.44601412714429867,\n",
       " 'diagRotSym': 0.014127144298688193,\n",
       " 'perpRotSym': 0.004036326942482341,\n",
       " 'allSym': 0.004036326942482341}"
      ]
     },
     "execution_count": 28,
     "metadata": {},
     "output_type": "execute_result"
    }
   ],
   "source": [
    "import numpy\n",
    "\n",
    "syms = {\n",
    "    'rotSym': 38,\n",
    "    'x0Sym': 109,\n",
    "    'xySym': 380,\n",
    "    'xnySym': 442,\n",
    "    'diagRotSym': 14,\n",
    "    'perpRotSym': 4,\n",
    "    'allSym': 4\n",
    "}\n",
    "\n",
    "totalSyms = numpy.sum(list(syms.values()))\n",
    "\n",
    "for k,v in syms.items():\n",
    "    syms[k] = v/totalSyms\n",
    "    \n",
    "syms"
   ]
  },
  {
   "cell_type": "code",
   "execution_count": 81,
   "metadata": {},
   "outputs": [
    {
     "data": {
      "text/plain": [
       "'xnySym'"
      ]
     },
     "execution_count": 81,
     "metadata": {},
     "output_type": "execute_result"
    }
   ],
   "source": [
    "rand_val = rand()\n",
    "\n",
    "def whichSymmetry(): \n",
    "    for i in range(1,len(syms)+1):\n",
    "        if rand_val <= numpy.sum(list(syms.values())[0:i]):\n",
    "            break;\n",
    "\n",
    "    list(syms.keys())[i-1]"
   ]
  },
  {
   "cell_type": "code",
   "execution_count": 57,
   "metadata": {},
   "outputs": [
    {
     "name": "stdout",
     "output_type": "stream",
     "text": [
      "0.0\n",
      "1\n",
      "3\n",
      "6\n"
     ]
    }
   ],
   "source": []
  },
  {
   "cell_type": "code",
   "execution_count": null,
   "metadata": {},
   "outputs": [],
   "source": []
  }
 ],
 "metadata": {
  "kernelspec": {
   "display_name": "Python 3",
   "language": "python",
   "name": "python3"
  },
  "language_info": {
   "codemirror_mode": {
    "name": "ipython",
    "version": 3
   },
   "file_extension": ".py",
   "mimetype": "text/x-python",
   "name": "python",
   "nbconvert_exporter": "python",
   "pygments_lexer": "ipython3",
   "version": "3.6.8"
  }
 },
 "nbformat": 4,
 "nbformat_minor": 2
}
